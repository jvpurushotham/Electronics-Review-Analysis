# Mobiles

import requests
from bs4 import BeautifulSoup
import pandas as pd

urls = ['https://www.flipkart.com/motorola-g05-forest-green-64-gb/product-reviews/itme5ed06a5943b9?pid=MOBH5F3Q2SGMAFHR&lid=LSTMOBH5F3Q2SGMAFHR6YHZS0&marketplace=FLIPKART',
'https://www.flipkart.com/motorola-g05-forest-green-64-gb/product-reviews/itme5ed06a5943b9?pid=MOBH5F3Q2SGMAFHR&lid=LSTMOBH5F3Q2SGMAFHR6YHZS0&marketplace=FLIPKART&page=10',

'https://www.flipkart.com/samsung-galaxy-m35-5g-daybreak-blue-128-gb/product-reviews/itm1a53e8f5191db?pid=MOBH2Y7HKCYDEHFZ&lid=LSTMOBH2Y7HKCYDEHFZSNA9KS&marketplace=FLIPKART',
'https://www.flipkart.com/samsung-galaxy-m35-5g-daybreak-blue-128-gb/product-reviews/itm1a53e8f5191db?pid=MOBH2Y7HKCYDEHFZ&lid=LSTMOBH2Y7HKCYDEHFZSNA9KS&marketplace=FLIPKART&page=10',

'https://www.flipkart.com/realme-c61-safari-green-128-gb/product-reviews/itmd6ddbcefce040?pid=MOBHFRKRAVXUKDGX&lid=LSTMOBHFRKRAVXUKDGX3LF6Z6&marketplace=FLIPKART',
'https://www.flipkart.com/realme-c61-safari-green-128-gb/product-reviews/itmd6ddbcefce040?pid=MOBHFRKRAVXUKDGX&lid=LSTMOBHFRKRAVXUKDGX3LF6Z6&marketplace=FLIPKART&page=10',


'https://www.flipkart.com/poco-c75-5g-silver-stardust-64-gb/product-reviews/itm8e3f17ac2e724?pid=MOBH74433ZER9U4P&lid=LSTMOBH74433ZER9U4PIUMZCQ&marketplace=FLIPKART',
'https://www.flipkart.com/poco-c75-5g-silver-stardust-64-gb/product-reviews/itm8e3f17ac2e724?pid=MOBH74433ZER9U4P&lid=LSTMOBH74433ZER9U4PIUMZCQ&marketplace=FLIPKART&page=10',

'https://www.flipkart.com/oppo-k12x-5g-45w-supervooc-charger-in-the-box-midnight-violet-128-gb/product-reviews/itma30cb38861d4c?pid=MOBH2Q4PGYYZDSRR&lid=LSTMOBH2Q4PGYYZDSRRJXREQR&marketplace=FLIPKART',
'https://www.flipkart.com/oppo-k12x-5g-45w-supervooc-charger-in-the-box-midnight-violet-128-gb/product-reviews/itma30cb38861d4c?pid=MOBH2Q4PGYYZDSRR&lid=LSTMOBH2Q4PGYYZDSRRJXREQR&marketplace=FLIPKART&page=10',

'https://www.flipkart.com/motorola-g45-5g-brilliant-blue-128-gb/product-reviews/itm1decbdd265f94?pid=MOBH3YKQT2HEAPAM&lid=LSTMOBH3YKQT2HEAPAMTX4TTX&marketplace=FLIPKART',
'https://www.flipkart.com/motorola-g45-5g-brilliant-blue-128-gb/product-reviews/itm1decbdd265f94?pid=MOBH3YKQT2HEAPAM&lid=LSTMOBH3YKQT2HEAPAMTX4TTX&marketplace=FLIPKART&page=10',

'https://www.flipkart.com/motorola-edge-50-fusion-marshmallow-blue-256-gb/product-reviews/itmf88eea5799a27?pid=MOBGXTYZBAS4VM8K&lid=LSTMOBGXTYZBAS4VM8KYYUZ0I&marketplace=FLIPKART',
'https://www.flipkart.com/motorola-edge-50-fusion-marshmallow-blue-256-gb/product-reviews/itmf88eea5799a27?pid=MOBGXTYZBAS4VM8K&lid=LSTMOBGXTYZBAS4VM8KYYUZ0I&marketplace=FLIPKART&page=10',

'https://www.flipkart.com/vivo-t3-lite-5g-vibrant-green-128-gb/product-reviews/itm977c89a44d373?pid=MOBHFTYBA6V3RVZE&lid=LSTMOBHFTYBA6V3RVZEGQ7SZ8&marketplace=FLIPKART',
'https://www.flipkart.com/vivo-t3-lite-5g-vibrant-green-128-gb/product-reviews/itm977c89a44d373?pid=MOBHFTYBA6V3RVZE&lid=LSTMOBHFTYBA6V3RVZEGQ7SZ8&marketplace=FLIPKART&page=10',

'https://www.flipkart.com/oneplus-nord-ce-3-lite-5g-chromatic-gray-128-gb/product-reviews/itm2cd5a4e659035?pid=MOBGZJ42KHUZZKMN&lid=LSTMOBGZJ42KHUZZKMN5AYAYO&marketplace=FLIPKART',
'https://www.flipkart.com/oneplus-nord-ce-3-lite-5g-chromatic-gray-128-gb/product-reviews/itm2cd5a4e659035?pid=MOBGZJ42KHUZZKMN&lid=LSTMOBGZJ42KHUZZKMN5AYAYO&marketplace=FLIPKART&page=10',

'https://www.flipkart.com/vivo-t3x-5g-crimson-bliss-128-gb/product-reviews/itm263ed44f56cd5?pid=MOBGZRNEPA4FFHCV&lid=LSTMOBGZRNEPA4FFHCVLCL5IA&marketplace=FLIPKART',
'https://www.flipkart.com/vivo-t3x-5g-crimson-bliss-128-gb/product-reviews/itm263ed44f56cd5?pid=MOBGZRNEPA4FFHCV&lid=LSTMOBGZRNEPA4FFHCVLCL5IA&marketplace=FLIPKART&page=10',

'https://www.flipkart.com/poco-c61-ethereal-blue-64-gb/product-reviews/itmdb8902b0c9344?pid=MOBGYQ6BXH69VAJY&lid=LSTMOBGYQ6BXH69VAJYWCT1R1&marketplace=FLIPKART',
'https://www.flipkart.com/poco-c61-ethereal-blue-64-gb/product-reviews/itmdb8902b0c9344?pid=MOBGYQ6BXH69VAJY&lid=LSTMOBGYQ6BXH69VAJYWCT1R1&marketplace=FLIPKART&page=10',

'https://www.flipkart.com/oneplus-13r-5g-nebula-noir-256-gb/product-reviews/itmff6561809fab8?pid=MOBH8EWQ6GUDHGFK&lid=LSTMOBH8EWQ6GUDHGFKDMIYEA&marketplace=FLIPKART',

'https://www.flipkart.com/realme-c61-marble-black-128-gb/product-reviews/itmd6ddbcefce040?pid=MOBHFRKRQMD36FZ5&lid=LSTMOBHFRKRQMD36FZ5ZLCIIC&marketplace=FLIPKART',
'https://www.flipkart.com/realme-c61-marble-black-128-gb/product-reviews/itmd6ddbcefce040?pid=MOBHFRKRQMD36FZ5&lid=LSTMOBHFRKRQMD36FZ5ZLCIIC&marketplace=FLIPKART&page=10',

'https://www.flipkart.com/tecno-spark-go-1-glittery-white-64-gb/product-reviews/itmc2adf9209b1fe?pid=MOBH5VVUXS3QFHHP&lid=LSTMOBH5VVUXS3QFHHP2IIGOX&marketplace=FLIPKART',
'https://www.flipkart.com/tecno-spark-go-1-glittery-white-64-gb/product-reviews/itmc2adf9209b1fe?pid=MOBH5VVUXS3QFHHP&lid=LSTMOBH5VVUXS3QFHHP2IIGOX&marketplace=FLIPKART&page=2',

'https://www.flipkart.com/kechaoda-a26/product-reviews/itmfcvuscszh9sjb?pid=MOBFCVSRURZV2NFR&lid=LSTMOBFCVSRURZV2NFRHIERYX&marketplace=FLIPKART',
'https://www.flipkart.com/kechaoda-a26/product-reviews/itmfcvuscszh9sjb?pid=MOBFCVSRURZV2NFR&lid=LSTMOBFCVSRURZV2NFRHIERYX&marketplace=FLIPKART&page=10',

'https://www.flipkart.com/vivo-t3-pro-5g-emerald-green-256-gb/product-reviews/itmcf52c1fcffbf3?pid=MOBH3XHRUQMKBEZX&lid=LSTMOBH3XHRUQMKBEZXUBLAII&marketplace=FLIPKART',
'https://www.flipkart.com/vivo-t3-pro-5g-emerald-green-256-gb/product-reviews/itmcf52c1fcffbf3?pid=MOBH3XHRUQMKBEZX&lid=LSTMOBH3XHRUQMKBEZXUBLAII&marketplace=FLIPKART&page=10',

'https://www.flipkart.com/samsung-sm-1207/product-reviews/itmb6a3ac1337b58?pid=MOBH4QJF99FPAPGV&lid=LSTMOBH4QJF99FPAPGVDKI42T&marketplace=FLIPKART',
'https://www.flipkart.com/samsung-sm-1207/product-reviews/itmb6a3ac1337b58?pid=MOBH4QJF99FPAPGV&lid=LSTMOBH4QJF99FPAPGVDKI42T&marketplace=FLIPKART&page=6',

'https://www.flipkart.com/samsung-galaxy-f05-twilight-blue-64-gb/product-reviews/itm84a914081ab93?pid=MOBH4GTXZ9ZRQ3SU&lid=LSTMOBH4GTXZ9ZRQ3SUTOKMZJ&marketplace=FLIPKART',
'https://www.flipkart.com/samsung-galaxy-f05-twilight-blue-64-gb/product-reviews/itm84a914081ab93?pid=MOBH4GTXZ9ZRQ3SU&lid=LSTMOBH4GTXZ9ZRQ3SUTOKMZJ&marketplace=FLIPKART&page=10',

'https://www.flipkart.com/apple-iphone-16-pink-128-gb/product-reviews/itmc2e910b4d0b1c?pid=MOBH4DQFWJVDRSHM&lid=LSTMOBH4DQFWJVDRSHMLKOVNG&marketplace=FLIPKART',
'https://www.flipkart.com/apple-iphone-16-pink-128-gb/product-reviews/itmc2e910b4d0b1c?pid=MOBH4DQFWJVDRSHM&lid=LSTMOBH4DQFWJVDRSHMLKOVNG&marketplace=FLIPKART&page=10',

'https://www.flipkart.com/google-pixel-8a-porcelain-128-gb/product-reviews/itm619c078bd72f7?pid=MOBGYQ2MYWFSA3XU&lid=LSTMOBGYQ2MYWFSA3XUKOBOBJ&marketplace=FLIPKART',
'https://www.flipkart.com/google-pixel-8a-porcelain-128-gb/product-reviews/itm619c078bd72f7?pid=MOBGYQ2MYWFSA3XU&lid=LSTMOBGYQ2MYWFSA3XUKOBOBJ&marketplace=FLIPKART&page=10',

'https://www.flipkart.com/samsung-galaxy-m35-5g-daybreak-blue-128-gb/product-reviews/itm1a53e8f5191db?pid=MOBH2Y7HKCYDEHFZ&lid=LSTMOBH2Y7HKCYDEHFZ8B5XNL&marketplace=FLIPKART',
'https://www.flipkart.com/samsung-galaxy-m35-5g-daybreak-blue-128-gb/product-reviews/itm1a53e8f5191db?pid=MOBH2Y7HKCYDEHFZ&lid=LSTMOBH2Y7HKCYDEHFZ8B5XNL&marketplace=FLIPKART&page=10',

'https://www.flipkart.com/samsung-m05-mint-green-64-gb/product-reviews/itm31b7d648fd40f?pid=MOBH4Z9VZNVRFV85&lid=LSTMOBH4Z9VZNVRFV85HPX6CE&marketplace=FLIPKART',
'https://www.flipkart.com/samsung-m05-mint-green-64-gb/product-reviews/itm31b7d648fd40f?pid=MOBH4Z9VZNVRFV85&lid=LSTMOBH4Z9VZNVRFV85HPX6CE&marketplace=FLIPKART&page=5',

'https://www.flipkart.com/samsung-galaxy-m14-4g-sapphire-blue-64-gb/product-reviews/itm3193199adbbec?pid=MOBGYYZ8AGMMDB8H&lid=LSTMOBGYYZ8AGMMDB8HNOO7UJ&marketplace=FLIPKART',
'https://www.flipkart.com/samsung-galaxy-m14-4g-sapphire-blue-64-gb/product-reviews/itm3193199adbbec?pid=MOBGYYZ8AGMMDB8H&lid=LSTMOBGYYZ8AGMMDB8HNOO7UJ&marketplace=FLIPKART&page=10',

'https://www.flipkart.com/samsung-galaxy-f15-5g-groovy-violet-128-gb/product-reviews/itm3e7d6c7112d45?pid=MOBGYBAVSDFYZFNY&lid=LSTMOBGYBAVSDFYZFNY0YSXRQ&marketplace=FLIPKART',
'https://www.flipkart.com/samsung-galaxy-f15-5g-groovy-violet-128-gb/product-reviews/itm3e7d6c7112d45?pid=MOBGYBAVSDFYZFNY&lid=LSTMOBGYBAVSDFYZFNY0YSXRQ&marketplace=FLIPKART&page=10',

'https://www.flipkart.com/samsung-galaxy-m15-5g-stone-grey-128-gb/product-reviews/itm3563d7d65a28e?pid=MOBGZTFWX6JCX3W4&lid=LSTMOBGZTFWX6JCX3W4G14E7P&marketplace=FLIPKART',
'https://www.flipkart.com/samsung-galaxy-m15-5g-stone-grey-128-gb/product-reviews/itm3563d7d65a28e?pid=MOBGZTFWX6JCX3W4&lid=LSTMOBGZTFWX6JCX3W4G14E7P&marketplace=FLIPKART&page=2',

'https://www.flipkart.com/samsung-galaxy-s23-fe-graphite-256-gb/product-reviews/itme751066521899?pid=MOBGVTA2GWPSR57X&lid=LSTMOBGVTA2GWPSR57XIIBGXC&marketplace=FLIPKART',
'https://www.flipkart.com/samsung-galaxy-s23-fe-graphite-256-gb/product-reviews/itme751066521899?pid=MOBGVTA2GWPSR57X&lid=LSTMOBGVTA2GWPSR57XIIBGXC&marketplace=FLIPKART&page=10',

'https://www.flipkart.com/samsung-1207/product-reviews/itmfdfbec07e7d22?pid=MOBHFWB35HMVFYAB&lid=LSTMOBHFWB35HMVFYABLPOEF2&marketplace=FLIPKART',
'https://www.flipkart.com/samsung-1207/product-reviews/itmfdfbec07e7d22?pid=MOBHFWB35HMVFYAB&lid=LSTMOBHFWB35HMVFYABLPOEF2&marketplace=FLIPKART&page=10',

'https://www.flipkart.com/samsung-galaxy-a16-5g-light-green-128-gb/product-reviews/itmeb3b07d3eff44?pid=MOBH92ADEFDKEH3K&lid=LSTMOBH92ADEFDKEH3KXIMOHM&marketplace=FLIPKART',
'https://www.flipkart.com/samsung-galaxy-a16-5g-light-green-128-gb/product-reviews/itmeb3b07d3eff44?pid=MOBH92ADEFDKEH3K&lid=LSTMOBH92ADEFDKEH3KXIMOHM&marketplace=FLIPKART&page=8',

'https://www.flipkart.com/apple-iphone-13-midnight-128-gb/product-reviews/itmca361aab1c5b0?pid=MOBG6VF5Q82T3XRS&lid=LSTMOBG6VF5Q82T3XRSOXJLM9&marketplace=FLIPKART',
'https://www.flipkart.com/apple-iphone-13-midnight-128-gb/product-reviews/itmca361aab1c5b0?pid=MOBG6VF5Q82T3XRS&lid=LSTMOBG6VF5Q82T3XRSOXJLM9&marketplace=FLIPKART&page=10',

'https://www.flipkart.com/samsung-guru-music-2/product-reviews/itme2ac9119f5a0f?pid=MOBH8F36WYNWJKRP&lid=LSTMOBH8F36WYNWJKRPBWIWG0&marketplace=FLIPKART',

'https://www.flipkart.com/samsung-galaxy-s23-5g-cream-256-gb/product-reviews/itm745d4b532623e?pid=MOBGMFFXURCVYANE&lid=LSTMOBGMFFXURCVYANEPKS8JB&marketplace=FLIPKART',
'https://www.flipkart.com/samsung-galaxy-s23-5g-cream-256-gb/product-reviews/itm745d4b532623e?pid=MOBGMFFXURCVYANE&lid=LSTMOBGMFFXURCVYANEPKS8JB&marketplace=FLIPKART&page=10',

'https://www.flipkart.com/samsung-galaxy-m35-5g-thunder-grey-128-gb/product-reviews/itm94360d23ec184?pid=MOBH2Z9YE2ZF9E6P&lid=LSTMOBH2Z9YE2ZF9E6PFT8JAV&marketplace=FLIPKART',
'https://www.flipkart.com/samsung-galaxy-m35-5g-thunder-grey-128-gb/product-reviews/itm94360d23ec184?pid=MOBH2Z9YE2ZF9E6P&lid=LSTMOBH2Z9YE2ZF9E6PFT8JAV&marketplace=FLIPKART%27&page=4',

'https://www.flipkart.com/samsung-galaxy-m14-4g-arctic-blue-64-gb/product-reviews/itm3193199adbbec?pid=MOBGYYZJ8ZUBWGJH&lid=LSTMOBGYYZJ8ZUBWGJH5GNHS9&marketplace=FLIPKART',
'https://www.flipkart.com/samsung-galaxy-m14-4g-arctic-blue-64-gb/product-reviews/itm3193199adbbec?pid=MOBGYYZJ8ZUBWGJH&lid=LSTMOBGYYZJ8ZUBWGJH5GNHS9&marketplace=FLIPKART&page=10',

'https://www.flipkart.com/samsung-galaxy-s25-5g-mint-256-gb/product-reviews/itm2196514814ed7?pid=MOBH8K8UQ5RYGUPF&lid=LSTMOBH8K8UQ5RYGUPFAUX9LE&marketplace=FLIPKART',
'https://www.flipkart.com/samsung-galaxy-s25-5g-mint-256-gb/product-reviews/itm2196514814ed7?pid=MOBH8K8UQ5RYGUPF&lid=LSTMOBH8K8UQ5RYGUPFAUX9LE&marketplace=FLIPKART&page=4',

'https://www.flipkart.com/samsung-galaxy-a16-5g-blue-black-128-gb/product-reviews/itmeb3b07d3eff44?pid=MOBH5JJ4SNXPVEY5&lid=LSTMOBH5JJ4SNXPVEY550IGBO&marketplace=FLIPKART',
'https://www.flipkart.com/samsung-galaxy-a16-5g-blue-black-128-gb/product-reviews/itmeb3b07d3eff44?pid=MOBH5JJ4SNXPVEY5&lid=LSTMOBH5JJ4SNXPVEY550IGBO&marketplace=FLIPKART&page=8',

'https://www.flipkart.com/samsung-galaxy-a05-light-green-64-gb/product-reviews/itmf37d39ccf9aea?pid=MOBGTZ6WZWHSZCYK&lid=LSTMOBGTZ6WZWHSZCYKTRCDBF&marketplace=FLIPKART',
'https://www.flipkart.com/samsung-galaxy-a05-light-green-64-gb/product-reviews/itmf37d39ccf9aea?pid=MOBGTZ6WZWHSZCYK&lid=LSTMOBGTZ6WZWHSZCYKTRCDBF&marketplace=FLIPKART&page=2',

'https://www.flipkart.com/samsung-galaxy-m15-5g-stone-grey-128-gb/product-reviews/itmf5a4280beb534?pid=MOBGZRYC2ZGKF42G&lid=LSTMOBGZRYC2ZGKF42GIVX8FA&marketplace=FLIPKART',
'https://www.flipkart.com/samsung-galaxy-m15-5g-stone-grey-128-gb/product-reviews/itmf5a4280beb534?pid=MOBGZRYC2ZGKF42G&lid=LSTMOBGZRYC2ZGKF42GIVX8FA&marketplace=FLIPKART&page=10',

'https://www.flipkart.com/apple-iphone-15-blue-128-gb/product-reviews/itmbf14ef54f645d?pid=MOBGTAGPAQNVFZZY&lid=LSTMOBGTAGPAQNVFZZYQRLPCQ&marketplace=FLIPKART',
'https://www.flipkart.com/apple-iphone-15-blue-128-gb/product-reviews/itmbf14ef54f645d?pid=MOBGTAGPAQNVFZZY&lid=LSTMOBGTAGPAQNVFZZYQRLPCQ&marketplace=FLIPKART&page=10',


'https://www.flipkart.com/google-pixel-8a-obsidian-128-gb/product-reviews/itm5c791e407a330?pid=MOBGYQ2MNHZWXRNY&lid=LSTMOBGYQ2MNHZWXRNYGSN6LA&marketplace=FLIPKART',
'https://www.flipkart.com/google-pixel-8a-obsidian-128-gb/product-reviews/itm5c791e407a330?pid=MOBGYQ2MNHZWXRNY&lid=LSTMOBGYQ2MNHZWXRNYGSN6LA&marketplace=FLIPKART&page=10',

'https://www.flipkart.com/google-pixel-7a-charcoal-128-gb/product-reviews/itmb4d7b100b1a4d?pid=MOBGZCQMHGWDYZQ7&lid=LSTMOBGZCQMHGWDYZQ7XLJASQ&marketplace=FLIPKART',
'https://www.flipkart.com/google-pixel-7a-charcoal-128-gb/product-reviews/itmb4d7b100b1a4d?pid=MOBGZCQMHGWDYZQ7&lid=LSTMOBGZCQMHGWDYZQ7XLJASQ&marketplace=FLIPKART&page=10',

'https://www.flipkart.com/google-pixel-8-hazel-256-gb/product-reviews/itm67e2a2531aaac?pid=MOBGT5F2R7MCUSWG&lid=LSTMOBGT5F2R7MCUSWGNYZQSJ&marketplace=FLIPKART',
'https://www.flipkart.com/google-pixel-8-hazel-256-gb/product-reviews/itm67e2a2531aaac?pid=MOBGT5F2R7MCUSWG&lid=LSTMOBGT5F2R7MCUSWGNYZQSJ&marketplace=FLIPKART&page=10',

'https://www.flipkart.com/google-pixel-9-obsidian-256-gb/product-reviews/itm330ed8ebeefe1?pid=MOBH2HJGP3FGTECW&lid=LSTMOBH2HJGP3FGTECWZSSJ2D&marketplace=FLIPKART',
'https://www.flipkart.com/google-pixel-9-obsidian-256-gb/product-reviews/itm330ed8ebeefe1?pid=MOBH2HJGP3FGTECW&lid=LSTMOBH2HJGP3FGTECWZSSJ2D&marketplace=FLIPKART&page=10',

'https://www.flipkart.com/apple-iphone-16-pink-256-gb/product-reviews/itmc2e910b4d0b1c?pid=MOBH4DQF28XAYM2S&lid=LSTMOBH4DQF28XAYM2S3JPA23&marketplace=FLIPKART',
'https://www.flipkart.com/apple-iphone-16-pink-256-gb/product-reviews/itmc2e910b4d0b1c?pid=MOBH4DQF28XAYM2S&lid=LSTMOBH4DQF28XAYM2S3JPA23&marketplace=FLIPKART&page=10',


'https://www.flipkart.com/apple-iphone-xr-blue-64-gb-includes-earpods-power-adapter/product-reviews/itmf9z7z4dgvug4h?pid=MOBF9Z7ZPZDS7RKH&lid=LSTMOBF9Z7ZPZDS7RKHAHDXLO&marketplace=FLIPKART',
'https://www.flipkart.com/apple-iphone-xr-blue-64-gb-includes-earpods-power-adapter/product-reviews/itmf9z7z4dgvug4h?pid=MOBF9Z7ZPZDS7RKH&lid=LSTMOBF9Z7ZPZDS7RKHAHDXLO&marketplace=FLIPKART&page=10',

'https://www.flipkart.com/apple-iphone-13-starlight-128-gb/product-reviews/itmc9604f122ae7f?pid=MOBG6VF5ADKHKXFX&lid=LSTMOBG6VF5ADKHKXFX4LCPEV&marketplace=FLIPKART',
'https://www.flipkart.com/apple-iphone-13-starlight-128-gb/product-reviews/itmc9604f122ae7f?pid=MOBG6VF5ADKHKXFX&lid=LSTMOBG6VF5ADKHKXFX4LCPEV&marketplace=FLIPKART&page=10',

'https://www.flipkart.com/apple-iphone-15-black-128-gb/product-reviews/itm6ac6485515ae4?pid=MOBGTAGPTB3VS24W&lid=LSTMOBGTAGPTB3VS24WKFODHL&marketplace=FLIPKART',
'https://www.flipkart.com/apple-iphone-15-black-128-gb/product-reviews/itm6ac6485515ae4?pid=MOBGTAGPTB3VS24W&lid=LSTMOBGTAGPTB3VS24WKFODHL&marketplace=FLIPKART&page=10',

'https://www.flipkart.com/infinix-hot-50-5g-sleek-black-128-gb/product-reviews/itm61d8bc127842c?pid=MOBH45FZSETQ3KMG&lid=LSTMOBH45FZSETQ3KMGKEMMXU&marketplace=FLIPKART',
'https://www.flipkart.com/infinix-hot-50-5g-sleek-black-128-gb/product-reviews/itm61d8bc127842c?pid=MOBH45FZSETQ3KMG&lid=LSTMOBH45FZSETQ3KMGKEMMXU&marketplace=FLIPKART&page=10',


'https://www.flipkart.com/nothing-phone-2a-5g-black-256-gb/product-reviews/itm85c6bca5edadc?pid=MOBGVMQSVVE7CEAB&lid=LSTMOBGVMQSVVE7CEABI1JY0C&marketplace=FLIPKART',
'https://www.flipkart.com/nothing-phone-2a-5g-black-256-gb/product-reviews/itm85c6bca5edadc?pid=MOBGVMQSVVE7CEAB&lid=LSTMOBGVMQSVVE7CEABI1JY0C&marketplace=FLIPKART&page=10',

'https://www.flipkart.com/realme-c63-jade-green-64-gb/product-reviews/itm4b00fb37acc51?pid=MOBH3WYFBZKWJ62H&lid=LSTMOBH3WYFBZKWJ62HVHIHZ0&marketplace=FLIPKART',
'https://www.flipkart.com/realme-c63-jade-green-64-gb/product-reviews/itm4b00fb37acc51?pid=MOBH3WYFBZKWJ62H&lid=LSTMOBH3WYFBZKWJ62HVHIHZ0&marketplace=FLIPKART&page=10',

'https://www.flipkart.com/infinix-gt-20-pro-mecha-orange-256-gb/product-reviews/itm65a37452b3cc8?pid=MOBHYP4XGQJ349CG&lid=LSTMOBHYP4XGQJ349CGPXATDD&marketplace=FLIPKART&page=9',
'https://www.flipkart.com/infinix-gt-20-pro-mecha-orange-256-gb/product-reviews/itm65a37452b3cc8?pid=MOBHYP4XGQJ349CG&lid=LSTMOBHYP4XGQJ349CGPXATDD&marketplace=FLIPKART&page=1',

'https://www.flipkart.com/oneplus-nord-ce4-lite-5g-super-silver-256-gb/product-reviews/itm8fd5fdf300955?pid=MOBH25ZHYFXEKGDB&lid=LSTMOBH25ZHYFXEKGDB1HTNNJ&marketplace=FLIPKART',
'https://www.flipkart.com/oneplus-nord-ce4-lite-5g-super-silver-256-gb/product-reviews/itm8fd5fdf300955?pid=MOBH25ZHYFXEKGDB&lid=LSTMOBH25ZHYFXEKGDB1HTNNJ&marketplace=FLIPKART&page=10',

'https://www.flipkart.com/realme-70-turbo-5g-turbo-purple-128-gb/product-reviews/itm7ebb13c5b0bcb?pid=MOBH4RZFGA8HQTBP&lid=LSTMOBH4RZFGA8HQTBPJVICM3&marketplace=FLIPKART',
'https://www.flipkart.com/realme-70-turbo-5g-turbo-purple-128-gb/product-reviews/itm7ebb13c5b0bcb?pid=MOBH4RZFGA8HQTBP&lid=LSTMOBH4RZFGA8HQTBPJVICM3&marketplace=FLIPKART&page=10',

'https://www.flipkart.com/infinix-smart-8-hd-crystal-green-64-gb/product-reviews/itm709d885ba6ac1?pid=MOBGVAPXGPFUDHYK&lid=LSTMOBGVAPXGPFUDHYKXUDYPL&marketplace=FLIPKART',
'https://www.flipkart.com/infinix-smart-8-hd-crystal-green-64-gb/product-reviews/itm709d885ba6ac1?pid=MOBGVAPXGPFUDHYK&lid=LSTMOBGVAPXGPFUDHYKXUDYPL&marketplace=FLIPKART&page=10',

'https://www.flipkart.com/iqoo-z9s-5g-titanium-matte-256-gb/product-reviews/itme8048e0375248?pid=MOBH4BY6ZGSBXETK&lid=LSTMOBH4BY6ZGSBXETKT4LUBM&marketplace=FLIPKART',
'https://www.flipkart.com/iqoo-z9s-5g-titanium-matte-256-gb/product-reviews/itme8048e0375248?pid=MOBH4BY6ZGSBXETK&lid=LSTMOBH4BY6ZGSBXETKT4LUBM&marketplace=FLIPKART&page=10',

'https://www.flipkart.com/iqoo-z9-brushed-green-128-gb/product-reviews/itme27e664c66320?pid=MOBGZFVUYE7M7EMR&lid=LSTMOBGZFVUYE7M7EMRDDCG5D&marketplace=FLIPKART',
'https://www.flipkart.com/iqoo-z9-brushed-green-128-gb/product-reviews/itme27e664c66320?pid=MOBGZFVUYE7M7EMR&lid=LSTMOBGZFVUYE7M7EMRDDCG5D&marketplace=FLIPKART&page=10',

'https://www.flipkart.com/apple-iphone-16-pro-white-titanium-512-gb/product-reviews/itm50f720fdcec51?pid=MOBH4JCVJWZH2GTM&lid=LSTMOBH4JCVJWZH2GTMKVGCT6&marketplace=FLIPKART',
'https://www.flipkart.com/apple-iphone-16-pro-white-titanium-512-gb/product-reviews/itm50f720fdcec51?pid=MOBH4JCVJWZH2GTM&lid=LSTMOBH4JCVJWZH2GTMKVGCT6&marketplace=FLIPKART&page=5',

'https://www.flipkart.com/oppo-k12x-5g-45w-supervooc-charger-in-the-box-feather-pink-128-gb/product-reviews/itma30cb38861d4c?pid=MOBH4GBFXAJPXAHQ&lid=LSTMOBH4GBFXAJPXAHQP94XCS&marketplace=FLIPKART',
'https://www.flipkart.com/oppo-k12x-5g-45w-supervooc-charger-in-the-box-feather-pink-128-gb/product-reviews/itma30cb38861d4c?pid=MOBH4GBFXAJPXAHQ&lid=LSTMOBH4GBFXAJPXAHQP94XCS&marketplace=FLIPKART&page=10',

'https://www.flipkart.com/samsung-galaxy-s25-ultra-5g-titanium-silverblue-512-gb/product-reviews/itm7d0e1ef71672e?pid=MOBH8K8UVQCSQE3Z&lid=LSTMOBH8K8UVQCSQE3Z5XVS59&marketplace=FLIPKART',
'https://www.flipkart.com/samsung-galaxy-s25-ultra-5g-titanium-silverblue-512-gb/product-reviews/itm7d0e1ef71672e?pid=MOBH8K8UVQCSQE3Z&lid=LSTMOBH8K8UVQCSQE3Z5XVS59&marketplace=FLIPKART&page=3',

'https://www.flipkart.com/oppo-reno13-5g-luminous-blue-128-gb/product-reviews/itmc0ea16ae55e86?pid=MOBH92AGRQ4GH6R3&lid=LSTMOBH92AGRQ4GH6R3SPXPUO&marketplace=FLIPKART',
'https://www.flipkart.com/oppo-reno13-5g-luminous-blue-128-gb/product-reviews/itmc0ea16ae55e86?pid=MOBH92AGRQ4GH6R3&lid=LSTMOBH92AGRQ4GH6R3SPXPUO&marketplace=FLIPKART&page=10',

'https://www.flipkart.com/oppo-find-n2-flip-astral-black-256-gb/product-reviews/itm8cfed9af48231?pid=MOBGN2NDWGYJTN8R&lid=LSTMOBGN2NDWGYJTN8RBRMPA8&marketplace=FLIPKART',
'https://www.flipkart.com/oppo-find-n2-flip-astral-black-256-gb/product-reviews/itm8cfed9af48231?pid=MOBGN2NDWGYJTN8R&lid=LSTMOBGN2NDWGYJTN8RBRMPA8&marketplace=FLIPKART&page=5',

'https://www.flipkart.com/oppo-f21-pro-sunset-orange-128-gb/product-reviews/itm2e204aa2f6ac7?pid=MOBGDECUFTXAAGYU&lid=LSTMOBGDECUFTXAAGYUQ3ZSMV&marketplace=FLIPKART',
'https://www.flipkart.com/oppo-f21-pro-sunset-orange-128-gb/product-reviews/itm2e204aa2f6ac7?pid=MOBGDECUFTXAAGYU&lid=LSTMOBGDECUFTXAAGYUQ3ZSMV&marketplace=FLIPKART&page=10',

'https://www.flipkart.com/vivo-v30-pro-5g-andaman-blue-256-gb/product-reviews/itmd7b7a1700c431?pid=MOBGYGCBETPD4FQY&lid=LSTMOBGYGCBETPD4FQYIRC4M7&marketplace=FLIPKART',
'https://www.flipkart.com/vivo-v30-pro-5g-andaman-blue-256-gb/product-reviews/itmd7b7a1700c431?pid=MOBGYGCBETPD4FQY&lid=LSTMOBGYGCBETPD4FQYIRC4M7&marketplace=FLIPKART&page=10',
'https://www.flipkart.com/honor-90-5g-midnight-black-512-gb/product-reviews/itmf7d76a3bc7242?pid=MOBGTTAYU54SRZ2H&lid=LSTMOBGTTAYU54SRZ2HQATJPN&marketplace=FLIPKART',
'https://www.flipkart.com/honor-90-5g-midnight-black-512-gb/product-reviews/itmf7d76a3bc7242?pid=MOBGTTAYU54SRZ2H&lid=LSTMOBGTTAYU54SRZ2HQATJPN&marketplace=FLIPKART&page=10'

]



headers = {
    'User-Agent': 'Mozilla/5.0 (Windows NT 10.0; Win64; x64) AppleWebKit/537.36 (KHTML, like Gecko) Chrome/58.0.3029.110 Safari/537.3'
}

product_data = []

for url in urls:
    response = requests.get(url, headers=headers)
    
    if response.status_code == 200:
        soup = BeautifulSoup(response.text, 'lxml')

        # Extracting product details
        title_element = soup.find('div', class_='Vu3-9u eCtPz5')
        title = title_element.get_text(strip=True) if title_element else "N/A"

        nreview_element = soup.find('div', class_='col-4-12 F2+K4v')
        num_reviews = nreview_element.get_text(strip=True) if nreview_element else "N/A"

        authors = [author.get_text(strip=True) for author in soup.find_all('div', class_='row gHqwa8')[:10]]
        ratings = [rating.get_text(strip=True) for rating in soup.find_all('div', class_='XQDdHH Ga3i8K')[:10]]
        review_titles = [rt.get_text(strip=True) for rt in soup.find_all('p', class_='z9E0IG')[:10]]
        review_texts = [review.get_text(strip=True) for review in soup.find_all('div', class_='ZmyHeo')[:10]]

        product_info = {
            "Product URL": url,
            "Title": title,
            "Number of Ratings & Reviews": num_reviews,
            "Authors": ", ".join(authors) if authors else "N/A",
            "Ratings": ", ".join(ratings) if ratings else "N/A",
            "Review Titles": ", ".join(review_titles) if review_titles else "N/A",
            "Review Texts": ", ".join(review_texts) if review_texts else "N/A"
        }

        product_data.append(product_info)

    else:
        print(f"Failed to fetch data from {url}, Status Code: {response.status_code}")

df = pd.DataFrame(product_data)

print(df)

# df.to_csv('flipkart_reviews_mobiles.csv', index=False)


